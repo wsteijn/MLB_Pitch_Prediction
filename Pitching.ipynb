{
  "nbformat": 4,
  "nbformat_minor": 0,
  "metadata": {
    "colab": {
      "name": "Pitching.ipynb",
      "provenance": [],
      "collapsed_sections": []
    },
    "kernelspec": {
      "name": "python3",
      "display_name": "Python 3"
    },
    "language_info": {
      "name": "python"
    }
  },
  "cells": [
    {
      "cell_type": "code",
      "metadata": {
        "colab": {
          "base_uri": "https://localhost:8080/"
        },
        "id": "cg11eUNcaErM",
        "outputId": "e606782d-7616-4e42-e407-7a70eae36d4f"
      },
      "source": [
        "pip install pybaseball\n"
      ],
      "execution_count": null,
      "outputs": [
        {
          "output_type": "stream",
          "text": [
            "Collecting pybaseball\n",
            "\u001b[?25l  Downloading https://files.pythonhosted.org/packages/38/d7/7675bfc777fd63abd22777f50d5f3d8b2218553c3f7ac2b2daea5b4377db/pybaseball-2.2.1-py3-none-any.whl (415kB)\n",
            "\r\u001b[K     |▉                               | 10kB 12.9MB/s eta 0:00:01\r\u001b[K     |█▋                              | 20kB 17.1MB/s eta 0:00:01\r\u001b[K     |██▍                             | 30kB 20.2MB/s eta 0:00:01\r\u001b[K     |███▏                            | 40kB 23.3MB/s eta 0:00:01\r\u001b[K     |████                            | 51kB 25.4MB/s eta 0:00:01\r\u001b[K     |████▊                           | 61kB 27.5MB/s eta 0:00:01\r\u001b[K     |█████▌                          | 71kB 27.6MB/s eta 0:00:01\r\u001b[K     |██████▎                         | 81kB 27.4MB/s eta 0:00:01\r\u001b[K     |███████                         | 92kB 28.5MB/s eta 0:00:01\r\u001b[K     |███████▉                        | 102kB 28.8MB/s eta 0:00:01\r\u001b[K     |████████▊                       | 112kB 28.8MB/s eta 0:00:01\r\u001b[K     |█████████▌                      | 122kB 28.8MB/s eta 0:00:01\r\u001b[K     |██████████▎                     | 133kB 28.8MB/s eta 0:00:01\r\u001b[K     |███████████                     | 143kB 28.8MB/s eta 0:00:01\r\u001b[K     |███████████▉                    | 153kB 28.8MB/s eta 0:00:01\r\u001b[K     |████████████▋                   | 163kB 28.8MB/s eta 0:00:01\r\u001b[K     |█████████████▍                  | 174kB 28.8MB/s eta 0:00:01\r\u001b[K     |██████████████▏                 | 184kB 28.8MB/s eta 0:00:01\r\u001b[K     |███████████████                 | 194kB 28.8MB/s eta 0:00:01\r\u001b[K     |███████████████▊                | 204kB 28.8MB/s eta 0:00:01\r\u001b[K     |████████████████▋               | 215kB 28.8MB/s eta 0:00:01\r\u001b[K     |█████████████████▍              | 225kB 28.8MB/s eta 0:00:01\r\u001b[K     |██████████████████▏             | 235kB 28.8MB/s eta 0:00:01\r\u001b[K     |███████████████████             | 245kB 28.8MB/s eta 0:00:01\r\u001b[K     |███████████████████▊            | 256kB 28.8MB/s eta 0:00:01\r\u001b[K     |████████████████████▌           | 266kB 28.8MB/s eta 0:00:01\r\u001b[K     |█████████████████████▎          | 276kB 28.8MB/s eta 0:00:01\r\u001b[K     |██████████████████████          | 286kB 28.8MB/s eta 0:00:01\r\u001b[K     |██████████████████████▉         | 296kB 28.8MB/s eta 0:00:01\r\u001b[K     |███████████████████████▋        | 307kB 28.8MB/s eta 0:00:01\r\u001b[K     |████████████████████████▍       | 317kB 28.8MB/s eta 0:00:01\r\u001b[K     |█████████████████████████▎      | 327kB 28.8MB/s eta 0:00:01\r\u001b[K     |██████████████████████████      | 337kB 28.8MB/s eta 0:00:01\r\u001b[K     |██████████████████████████▉     | 348kB 28.8MB/s eta 0:00:01\r\u001b[K     |███████████████████████████▋    | 358kB 28.8MB/s eta 0:00:01\r\u001b[K     |████████████████████████████▍   | 368kB 28.8MB/s eta 0:00:01\r\u001b[K     |█████████████████████████████▏  | 378kB 28.8MB/s eta 0:00:01\r\u001b[K     |██████████████████████████████  | 389kB 28.8MB/s eta 0:00:01\r\u001b[K     |██████████████████████████████▊ | 399kB 28.8MB/s eta 0:00:01\r\u001b[K     |███████████████████████████████▌| 409kB 28.8MB/s eta 0:00:01\r\u001b[K     |████████████████████████████████| 419kB 28.8MB/s \n",
            "\u001b[?25hRequirement already satisfied: scipy>=1.4.0 in /usr/local/lib/python3.7/dist-packages (from pybaseball) (1.4.1)\n",
            "Requirement already satisfied: numpy>=1.13.0 in /usr/local/lib/python3.7/dist-packages (from pybaseball) (1.19.5)\n",
            "Requirement already satisfied: matplotlib>=2.0.0 in /usr/local/lib/python3.7/dist-packages (from pybaseball) (3.2.2)\n",
            "Requirement already satisfied: pyarrow>=1.0.1 in /usr/local/lib/python3.7/dist-packages (from pybaseball) (3.0.0)\n",
            "Collecting tqdm>=4.50.0\n",
            "\u001b[?25l  Downloading https://files.pythonhosted.org/packages/42/d7/f357d98e9b50346bcb6095fe3ad205d8db3174eb5edb03edfe7c4099576d/tqdm-4.61.0-py2.py3-none-any.whl (75kB)\n",
            "\u001b[K     |████████████████████████████████| 81kB 8.2MB/s \n",
            "\u001b[?25hRequirement already satisfied: beautifulsoup4>=4.4.0 in /usr/local/lib/python3.7/dist-packages (from pybaseball) (4.6.3)\n",
            "Requirement already satisfied: attrs>=20.3.0 in /usr/local/lib/python3.7/dist-packages (from pybaseball) (21.2.0)\n",
            "Collecting pygithub>=1.51\n",
            "\u001b[?25l  Downloading https://files.pythonhosted.org/packages/c1/1f/9dc4ba315eeea222473cf4c15d3e665f32d52f859d9d6e73219d0a408969/PyGithub-1.55-py3-none-any.whl (291kB)\n",
            "\u001b[K     |████████████████████████████████| 296kB 36.5MB/s \n",
            "\u001b[?25hRequirement already satisfied: lxml>=4.2.1 in /usr/local/lib/python3.7/dist-packages (from pybaseball) (4.2.6)\n",
            "Requirement already satisfied: requests>=2.18.1 in /usr/local/lib/python3.7/dist-packages (from pybaseball) (2.23.0)\n",
            "Requirement already satisfied: pandas>=1.0.3 in /usr/local/lib/python3.7/dist-packages (from pybaseball) (1.1.5)\n",
            "Requirement already satisfied: cycler>=0.10 in /usr/local/lib/python3.7/dist-packages (from matplotlib>=2.0.0->pybaseball) (0.10.0)\n",
            "Requirement already satisfied: kiwisolver>=1.0.1 in /usr/local/lib/python3.7/dist-packages (from matplotlib>=2.0.0->pybaseball) (1.3.1)\n",
            "Requirement already satisfied: python-dateutil>=2.1 in /usr/local/lib/python3.7/dist-packages (from matplotlib>=2.0.0->pybaseball) (2.8.1)\n",
            "Requirement already satisfied: pyparsing!=2.0.4,!=2.1.2,!=2.1.6,>=2.0.1 in /usr/local/lib/python3.7/dist-packages (from matplotlib>=2.0.0->pybaseball) (2.4.7)\n",
            "Collecting pynacl>=1.4.0\n",
            "\u001b[?25l  Downloading https://files.pythonhosted.org/packages/9d/57/2f5e6226a674b2bcb6db531e8b383079b678df5b10cdaa610d6cf20d77ba/PyNaCl-1.4.0-cp35-abi3-manylinux1_x86_64.whl (961kB)\n",
            "\u001b[K     |████████████████████████████████| 962kB 35.4MB/s \n",
            "\u001b[?25hCollecting pyjwt>=2.0\n",
            "  Downloading https://files.pythonhosted.org/packages/3f/32/d5d3cab27fee7f6b22d7cd7507547ae45d52e26030fa77d1f83d0526c6e5/PyJWT-2.1.0-py3-none-any.whl\n",
            "Collecting deprecated\n",
            "  Downloading https://files.pythonhosted.org/packages/fb/73/994edfcba74443146c84b91921fcc269374354118d4f452fb0c54c1cbb12/Deprecated-1.2.12-py2.py3-none-any.whl\n",
            "Requirement already satisfied: chardet<4,>=3.0.2 in /usr/local/lib/python3.7/dist-packages (from requests>=2.18.1->pybaseball) (3.0.4)\n",
            "Requirement already satisfied: urllib3!=1.25.0,!=1.25.1,<1.26,>=1.21.1 in /usr/local/lib/python3.7/dist-packages (from requests>=2.18.1->pybaseball) (1.24.3)\n",
            "Requirement already satisfied: certifi>=2017.4.17 in /usr/local/lib/python3.7/dist-packages (from requests>=2.18.1->pybaseball) (2020.12.5)\n",
            "Requirement already satisfied: idna<3,>=2.5 in /usr/local/lib/python3.7/dist-packages (from requests>=2.18.1->pybaseball) (2.10)\n",
            "Requirement already satisfied: pytz>=2017.2 in /usr/local/lib/python3.7/dist-packages (from pandas>=1.0.3->pybaseball) (2018.9)\n",
            "Requirement already satisfied: six in /usr/local/lib/python3.7/dist-packages (from cycler>=0.10->matplotlib>=2.0.0->pybaseball) (1.15.0)\n",
            "Requirement already satisfied: cffi>=1.4.1 in /usr/local/lib/python3.7/dist-packages (from pynacl>=1.4.0->pygithub>=1.51->pybaseball) (1.14.5)\n",
            "Requirement already satisfied: wrapt<2,>=1.10 in /usr/local/lib/python3.7/dist-packages (from deprecated->pygithub>=1.51->pybaseball) (1.12.1)\n",
            "Requirement already satisfied: pycparser in /usr/local/lib/python3.7/dist-packages (from cffi>=1.4.1->pynacl>=1.4.0->pygithub>=1.51->pybaseball) (2.20)\n",
            "Installing collected packages: tqdm, pynacl, pyjwt, deprecated, pygithub, pybaseball\n",
            "  Found existing installation: tqdm 4.41.1\n",
            "    Uninstalling tqdm-4.41.1:\n",
            "      Successfully uninstalled tqdm-4.41.1\n",
            "Successfully installed deprecated-1.2.12 pybaseball-2.2.1 pygithub-1.55 pyjwt-2.1.0 pynacl-1.4.0 tqdm-4.61.0\n"
          ],
          "name": "stdout"
        }
      ]
    },
    {
      "cell_type": "code",
      "metadata": {
        "id": "oOxDeuoctNDT"
      },
      "source": [
        "import numpy as np\n",
        "import pandas as pd\n",
        "import seaborn as sns\n",
        "import matplotlib.pyplot as plt\n",
        "from sklearn.model_selection import train_test_split\n",
        "from numpy import mean\n",
        "from numpy import std\n",
        "from sklearn.model_selection import cross_val_score\n",
        "from sklearn.model_selection import RepeatedStratifiedKFold\n",
        "from sklearn.linear_model import LogisticRegression\n",
        "import random\n",
        "import math\n",
        "from pybaseball import playerid_lookup\n",
        "import urllib\n",
        "from bs4 import BeautifulSoup\n",
        "import datetime\n",
        "import urllib.request \n",
        "\n"
      ],
      "execution_count": null,
      "outputs": []
    },
    {
      "cell_type": "code",
      "metadata": {
        "id": "NRQu_XQdaqbf"
      },
      "source": [
        "from pybaseball import statcast\n",
        "#download the pitch by pitch data for the 2018 and 2019 seasons\n",
        "data = statcast(start_dt='2018-03-29', end_dt='2019-09-29')\n",
        "data.head(2)"
      ],
      "execution_count": null,
      "outputs": []
    },
    {
      "cell_type": "code",
      "metadata": {
        "colab": {
          "base_uri": "https://localhost:8080/"
        },
        "id": "ESKk3kxKBpPi",
        "outputId": "0ffc02b7-e477-44da-83c2-67715dfa112d"
      },
      "source": [
        "from google.colab import drive\n",
        "drive.mount('/content/drive')\n",
        "\n",
        "#data.to_csv(r'/content/drive/MyDrive/Colab Notebooks/data.csv', index = False, header=True)\n"
      ],
      "execution_count": null,
      "outputs": [
        {
          "output_type": "stream",
          "text": [
            "Mounted at /content/drive\n"
          ],
          "name": "stdout"
        }
      ]
    },
    {
      "cell_type": "code",
      "metadata": {
        "id": "MXChTIyKtD5X"
      },
      "source": [
        "path = '/content/drive/MyDrive/Colab Notebooks/data.csv'\n",
        "data = pd.read_csv(path)\n"
      ],
      "execution_count": null,
      "outputs": []
    },
    {
      "cell_type": "code",
      "metadata": {
        "colab": {
          "base_uri": "https://localhost:8080/"
        },
        "id": "GOWeFK8la4_D",
        "outputId": "d976fe33-bec8-40e0-8ee0-fb683ff14f36"
      },
      "source": [
        "data.shape #1,463,680 pitches"
      ],
      "execution_count": null,
      "outputs": [
        {
          "output_type": "execute_result",
          "data": {
            "text/plain": [
              "(1463680, 92)"
            ]
          },
          "metadata": {
            "tags": []
          },
          "execution_count": 3
        }
      ]
    },
    {
      "cell_type": "code",
      "metadata": {
        "colab": {
          "base_uri": "https://localhost:8080/"
        },
        "id": "IbdJKPf6-TNP",
        "outputId": "43f208fb-767a-46cc-f65b-46f62777957b"
      },
      "source": [
        "#look at all the column names for the dataframe\n",
        "data.columns\n",
        "#columns_to_keep = ['pitch_type', 'game_date', 'release_speed', 'release_pos_x', 'release_pos_z','player_name', 'batter', 'pitcher', 'events', 'description', 'zone', '']"
      ],
      "execution_count": null,
      "outputs": [
        {
          "output_type": "execute_result",
          "data": {
            "text/plain": [
              "Index(['pitch_type', 'game_date', 'release_speed', 'release_pos_x',\n",
              "       'release_pos_z', 'player_name', 'batter', 'pitcher', 'events',\n",
              "       'description', 'spin_dir', 'spin_rate_deprecated',\n",
              "       'break_angle_deprecated', 'break_length_deprecated', 'zone', 'des',\n",
              "       'game_type', 'stand', 'p_throws', 'home_team', 'away_team', 'type',\n",
              "       'hit_location', 'bb_type', 'balls', 'strikes', 'game_year', 'pfx_x',\n",
              "       'pfx_z', 'plate_x', 'plate_z', 'on_3b', 'on_2b', 'on_1b',\n",
              "       'outs_when_up', 'inning', 'inning_topbot', 'hc_x', 'hc_y',\n",
              "       'tfs_deprecated', 'tfs_zulu_deprecated', 'fielder_2', 'umpire', 'sv_id',\n",
              "       'vx0', 'vy0', 'vz0', 'ax', 'ay', 'az', 'sz_top', 'sz_bot',\n",
              "       'hit_distance_sc', 'launch_speed', 'launch_angle', 'effective_speed',\n",
              "       'release_spin_rate', 'release_extension', 'game_pk', 'pitcher.1',\n",
              "       'fielder_2.1', 'fielder_3', 'fielder_4', 'fielder_5', 'fielder_6',\n",
              "       'fielder_7', 'fielder_8', 'fielder_9', 'release_pos_y',\n",
              "       'estimated_ba_using_speedangle', 'estimated_woba_using_speedangle',\n",
              "       'woba_value', 'woba_denom', 'babip_value', 'iso_value',\n",
              "       'launch_speed_angle', 'at_bat_number', 'pitch_number', 'pitch_name',\n",
              "       'home_score', 'away_score', 'bat_score', 'fld_score', 'post_away_score',\n",
              "       'post_home_score', 'post_bat_score', 'post_fld_score',\n",
              "       'if_fielding_alignment', 'of_fielding_alignment', 'spin_axis',\n",
              "       'delta_home_win_exp', 'delta_run_exp'],\n",
              "      dtype='object')"
            ]
          },
          "metadata": {
            "tags": []
          },
          "execution_count": 4
        }
      ]
    },
    {
      "cell_type": "code",
      "metadata": {
        "colab": {
          "base_uri": "https://localhost:8080/",
          "height": 593
        },
        "id": "4yDjrRqyYJ7Y",
        "outputId": "137ac7df-884a-4fe7-b1e5-d0fc76821edf"
      },
      "source": [
        "data.head()"
      ],
      "execution_count": null,
      "outputs": [
        {
          "output_type": "execute_result",
          "data": {
            "text/html": [
              "<div>\n",
              "<style scoped>\n",
              "    .dataframe tbody tr th:only-of-type {\n",
              "        vertical-align: middle;\n",
              "    }\n",
              "\n",
              "    .dataframe tbody tr th {\n",
              "        vertical-align: top;\n",
              "    }\n",
              "\n",
              "    .dataframe thead th {\n",
              "        text-align: right;\n",
              "    }\n",
              "</style>\n",
              "<table border=\"1\" class=\"dataframe\">\n",
              "  <thead>\n",
              "    <tr style=\"text-align: right;\">\n",
              "      <th></th>\n",
              "      <th>pitch_type</th>\n",
              "      <th>game_date</th>\n",
              "      <th>release_speed</th>\n",
              "      <th>release_pos_x</th>\n",
              "      <th>release_pos_z</th>\n",
              "      <th>player_name</th>\n",
              "      <th>batter</th>\n",
              "      <th>pitcher</th>\n",
              "      <th>events</th>\n",
              "      <th>description</th>\n",
              "      <th>spin_dir</th>\n",
              "      <th>spin_rate_deprecated</th>\n",
              "      <th>break_angle_deprecated</th>\n",
              "      <th>break_length_deprecated</th>\n",
              "      <th>zone</th>\n",
              "      <th>des</th>\n",
              "      <th>game_type</th>\n",
              "      <th>stand</th>\n",
              "      <th>p_throws</th>\n",
              "      <th>home_team</th>\n",
              "      <th>away_team</th>\n",
              "      <th>type</th>\n",
              "      <th>hit_location</th>\n",
              "      <th>bb_type</th>\n",
              "      <th>balls</th>\n",
              "      <th>strikes</th>\n",
              "      <th>game_year</th>\n",
              "      <th>pfx_x</th>\n",
              "      <th>pfx_z</th>\n",
              "      <th>plate_x</th>\n",
              "      <th>plate_z</th>\n",
              "      <th>on_3b</th>\n",
              "      <th>on_2b</th>\n",
              "      <th>on_1b</th>\n",
              "      <th>outs_when_up</th>\n",
              "      <th>inning</th>\n",
              "      <th>inning_topbot</th>\n",
              "      <th>hc_x</th>\n",
              "      <th>hc_y</th>\n",
              "      <th>tfs_deprecated</th>\n",
              "      <th>...</th>\n",
              "      <th>hit_distance_sc</th>\n",
              "      <th>launch_speed</th>\n",
              "      <th>launch_angle</th>\n",
              "      <th>effective_speed</th>\n",
              "      <th>release_spin_rate</th>\n",
              "      <th>release_extension</th>\n",
              "      <th>game_pk</th>\n",
              "      <th>pitcher.1</th>\n",
              "      <th>fielder_2.1</th>\n",
              "      <th>fielder_3</th>\n",
              "      <th>fielder_4</th>\n",
              "      <th>fielder_5</th>\n",
              "      <th>fielder_6</th>\n",
              "      <th>fielder_7</th>\n",
              "      <th>fielder_8</th>\n",
              "      <th>fielder_9</th>\n",
              "      <th>release_pos_y</th>\n",
              "      <th>estimated_ba_using_speedangle</th>\n",
              "      <th>estimated_woba_using_speedangle</th>\n",
              "      <th>woba_value</th>\n",
              "      <th>woba_denom</th>\n",
              "      <th>babip_value</th>\n",
              "      <th>iso_value</th>\n",
              "      <th>launch_speed_angle</th>\n",
              "      <th>at_bat_number</th>\n",
              "      <th>pitch_number</th>\n",
              "      <th>pitch_name</th>\n",
              "      <th>home_score</th>\n",
              "      <th>away_score</th>\n",
              "      <th>bat_score</th>\n",
              "      <th>fld_score</th>\n",
              "      <th>post_away_score</th>\n",
              "      <th>post_home_score</th>\n",
              "      <th>post_bat_score</th>\n",
              "      <th>post_fld_score</th>\n",
              "      <th>if_fielding_alignment</th>\n",
              "      <th>of_fielding_alignment</th>\n",
              "      <th>spin_axis</th>\n",
              "      <th>delta_home_win_exp</th>\n",
              "      <th>delta_run_exp</th>\n",
              "    </tr>\n",
              "  </thead>\n",
              "  <tbody>\n",
              "    <tr>\n",
              "      <th>0</th>\n",
              "      <td>FC</td>\n",
              "      <td>2019-09-29</td>\n",
              "      <td>91.1</td>\n",
              "      <td>-2.16</td>\n",
              "      <td>6.08</td>\n",
              "      <td>Herrera, Kelvin</td>\n",
              "      <td>641513</td>\n",
              "      <td>516969</td>\n",
              "      <td>strikeout</td>\n",
              "      <td>swinging_strike</td>\n",
              "      <td>NaN</td>\n",
              "      <td>NaN</td>\n",
              "      <td>NaN</td>\n",
              "      <td>NaN</td>\n",
              "      <td>14.0</td>\n",
              "      <td>Travis Demeritte strikes out swinging.</td>\n",
              "      <td>R</td>\n",
              "      <td>R</td>\n",
              "      <td>R</td>\n",
              "      <td>CWS</td>\n",
              "      <td>DET</td>\n",
              "      <td>S</td>\n",
              "      <td>2.0</td>\n",
              "      <td>NaN</td>\n",
              "      <td>2</td>\n",
              "      <td>2</td>\n",
              "      <td>2019</td>\n",
              "      <td>-0.05</td>\n",
              "      <td>0.40</td>\n",
              "      <td>0.08</td>\n",
              "      <td>1.02</td>\n",
              "      <td>NaN</td>\n",
              "      <td>NaN</td>\n",
              "      <td>NaN</td>\n",
              "      <td>2</td>\n",
              "      <td>9</td>\n",
              "      <td>Top</td>\n",
              "      <td>NaN</td>\n",
              "      <td>NaN</td>\n",
              "      <td>NaN</td>\n",
              "      <td>...</td>\n",
              "      <td>NaN</td>\n",
              "      <td>NaN</td>\n",
              "      <td>NaN</td>\n",
              "      <td>89.9</td>\n",
              "      <td>2347.0</td>\n",
              "      <td>5.8</td>\n",
              "      <td>567343</td>\n",
              "      <td>516969</td>\n",
              "      <td>641470.0</td>\n",
              "      <td>572365.0</td>\n",
              "      <td>570560.0</td>\n",
              "      <td>660162.0</td>\n",
              "      <td>664901.0</td>\n",
              "      <td>650391.0</td>\n",
              "      <td>641553.0</td>\n",
              "      <td>641477.0</td>\n",
              "      <td>54.71</td>\n",
              "      <td>NaN</td>\n",
              "      <td>NaN</td>\n",
              "      <td>0.0</td>\n",
              "      <td>1.0</td>\n",
              "      <td>0.0</td>\n",
              "      <td>0.0</td>\n",
              "      <td>NaN</td>\n",
              "      <td>66</td>\n",
              "      <td>5</td>\n",
              "      <td>Cutter</td>\n",
              "      <td>5</td>\n",
              "      <td>3</td>\n",
              "      <td>3</td>\n",
              "      <td>5</td>\n",
              "      <td>3</td>\n",
              "      <td>5</td>\n",
              "      <td>3</td>\n",
              "      <td>5</td>\n",
              "      <td>Standard</td>\n",
              "      <td>Standard</td>\n",
              "      <td>187.0</td>\n",
              "      <td>0.011</td>\n",
              "      <td>-0.099</td>\n",
              "    </tr>\n",
              "    <tr>\n",
              "      <th>1</th>\n",
              "      <td>FC</td>\n",
              "      <td>2019-09-29</td>\n",
              "      <td>88.2</td>\n",
              "      <td>-2.22</td>\n",
              "      <td>6.07</td>\n",
              "      <td>Herrera, Kelvin</td>\n",
              "      <td>641513</td>\n",
              "      <td>516969</td>\n",
              "      <td>NaN</td>\n",
              "      <td>foul</td>\n",
              "      <td>NaN</td>\n",
              "      <td>NaN</td>\n",
              "      <td>NaN</td>\n",
              "      <td>NaN</td>\n",
              "      <td>5.0</td>\n",
              "      <td>Travis Demeritte strikes out swinging.</td>\n",
              "      <td>R</td>\n",
              "      <td>R</td>\n",
              "      <td>R</td>\n",
              "      <td>CWS</td>\n",
              "      <td>DET</td>\n",
              "      <td>S</td>\n",
              "      <td>NaN</td>\n",
              "      <td>NaN</td>\n",
              "      <td>2</td>\n",
              "      <td>1</td>\n",
              "      <td>2019</td>\n",
              "      <td>0.19</td>\n",
              "      <td>0.46</td>\n",
              "      <td>0.16</td>\n",
              "      <td>2.29</td>\n",
              "      <td>NaN</td>\n",
              "      <td>NaN</td>\n",
              "      <td>NaN</td>\n",
              "      <td>2</td>\n",
              "      <td>9</td>\n",
              "      <td>Top</td>\n",
              "      <td>NaN</td>\n",
              "      <td>NaN</td>\n",
              "      <td>NaN</td>\n",
              "      <td>...</td>\n",
              "      <td>10.0</td>\n",
              "      <td>66.6</td>\n",
              "      <td>-12.0</td>\n",
              "      <td>87.1</td>\n",
              "      <td>2366.0</td>\n",
              "      <td>5.7</td>\n",
              "      <td>567343</td>\n",
              "      <td>516969</td>\n",
              "      <td>641470.0</td>\n",
              "      <td>572365.0</td>\n",
              "      <td>570560.0</td>\n",
              "      <td>660162.0</td>\n",
              "      <td>664901.0</td>\n",
              "      <td>650391.0</td>\n",
              "      <td>641553.0</td>\n",
              "      <td>641477.0</td>\n",
              "      <td>54.78</td>\n",
              "      <td>NaN</td>\n",
              "      <td>NaN</td>\n",
              "      <td>NaN</td>\n",
              "      <td>NaN</td>\n",
              "      <td>NaN</td>\n",
              "      <td>NaN</td>\n",
              "      <td>NaN</td>\n",
              "      <td>66</td>\n",
              "      <td>4</td>\n",
              "      <td>Cutter</td>\n",
              "      <td>5</td>\n",
              "      <td>3</td>\n",
              "      <td>3</td>\n",
              "      <td>5</td>\n",
              "      <td>3</td>\n",
              "      <td>5</td>\n",
              "      <td>3</td>\n",
              "      <td>5</td>\n",
              "      <td>Standard</td>\n",
              "      <td>Standard</td>\n",
              "      <td>158.0</td>\n",
              "      <td>0.000</td>\n",
              "      <td>-0.033</td>\n",
              "    </tr>\n",
              "    <tr>\n",
              "      <th>2</th>\n",
              "      <td>FF</td>\n",
              "      <td>2019-09-29</td>\n",
              "      <td>95.8</td>\n",
              "      <td>-1.55</td>\n",
              "      <td>6.41</td>\n",
              "      <td>Herrera, Kelvin</td>\n",
              "      <td>641513</td>\n",
              "      <td>516969</td>\n",
              "      <td>NaN</td>\n",
              "      <td>ball</td>\n",
              "      <td>NaN</td>\n",
              "      <td>NaN</td>\n",
              "      <td>NaN</td>\n",
              "      <td>NaN</td>\n",
              "      <td>11.0</td>\n",
              "      <td>Travis Demeritte strikes out swinging.</td>\n",
              "      <td>R</td>\n",
              "      <td>R</td>\n",
              "      <td>R</td>\n",
              "      <td>CWS</td>\n",
              "      <td>DET</td>\n",
              "      <td>B</td>\n",
              "      <td>NaN</td>\n",
              "      <td>NaN</td>\n",
              "      <td>1</td>\n",
              "      <td>1</td>\n",
              "      <td>2019</td>\n",
              "      <td>-0.90</td>\n",
              "      <td>1.42</td>\n",
              "      <td>-1.57</td>\n",
              "      <td>2.78</td>\n",
              "      <td>NaN</td>\n",
              "      <td>NaN</td>\n",
              "      <td>NaN</td>\n",
              "      <td>2</td>\n",
              "      <td>9</td>\n",
              "      <td>Top</td>\n",
              "      <td>NaN</td>\n",
              "      <td>NaN</td>\n",
              "      <td>NaN</td>\n",
              "      <td>...</td>\n",
              "      <td>NaN</td>\n",
              "      <td>NaN</td>\n",
              "      <td>NaN</td>\n",
              "      <td>95.2</td>\n",
              "      <td>2235.0</td>\n",
              "      <td>5.9</td>\n",
              "      <td>567343</td>\n",
              "      <td>516969</td>\n",
              "      <td>641470.0</td>\n",
              "      <td>572365.0</td>\n",
              "      <td>570560.0</td>\n",
              "      <td>660162.0</td>\n",
              "      <td>664901.0</td>\n",
              "      <td>650391.0</td>\n",
              "      <td>641553.0</td>\n",
              "      <td>641477.0</td>\n",
              "      <td>54.58</td>\n",
              "      <td>NaN</td>\n",
              "      <td>NaN</td>\n",
              "      <td>NaN</td>\n",
              "      <td>NaN</td>\n",
              "      <td>NaN</td>\n",
              "      <td>NaN</td>\n",
              "      <td>NaN</td>\n",
              "      <td>66</td>\n",
              "      <td>3</td>\n",
              "      <td>4-Seam Fastball</td>\n",
              "      <td>5</td>\n",
              "      <td>3</td>\n",
              "      <td>3</td>\n",
              "      <td>5</td>\n",
              "      <td>3</td>\n",
              "      <td>5</td>\n",
              "      <td>3</td>\n",
              "      <td>5</td>\n",
              "      <td>Standard</td>\n",
              "      <td>Standard</td>\n",
              "      <td>212.0</td>\n",
              "      <td>0.000</td>\n",
              "      <td>0.024</td>\n",
              "    </tr>\n",
              "    <tr>\n",
              "      <th>3</th>\n",
              "      <td>FC</td>\n",
              "      <td>2019-09-29</td>\n",
              "      <td>90.1</td>\n",
              "      <td>-2.16</td>\n",
              "      <td>6.01</td>\n",
              "      <td>Herrera, Kelvin</td>\n",
              "      <td>641513</td>\n",
              "      <td>516969</td>\n",
              "      <td>NaN</td>\n",
              "      <td>ball</td>\n",
              "      <td>NaN</td>\n",
              "      <td>NaN</td>\n",
              "      <td>NaN</td>\n",
              "      <td>NaN</td>\n",
              "      <td>13.0</td>\n",
              "      <td>Travis Demeritte strikes out swinging.</td>\n",
              "      <td>R</td>\n",
              "      <td>R</td>\n",
              "      <td>R</td>\n",
              "      <td>CWS</td>\n",
              "      <td>DET</td>\n",
              "      <td>B</td>\n",
              "      <td>NaN</td>\n",
              "      <td>NaN</td>\n",
              "      <td>0</td>\n",
              "      <td>1</td>\n",
              "      <td>2019</td>\n",
              "      <td>0.14</td>\n",
              "      <td>0.35</td>\n",
              "      <td>-0.06</td>\n",
              "      <td>0.95</td>\n",
              "      <td>NaN</td>\n",
              "      <td>NaN</td>\n",
              "      <td>NaN</td>\n",
              "      <td>2</td>\n",
              "      <td>9</td>\n",
              "      <td>Top</td>\n",
              "      <td>NaN</td>\n",
              "      <td>NaN</td>\n",
              "      <td>NaN</td>\n",
              "      <td>...</td>\n",
              "      <td>NaN</td>\n",
              "      <td>NaN</td>\n",
              "      <td>NaN</td>\n",
              "      <td>88.7</td>\n",
              "      <td>2335.0</td>\n",
              "      <td>5.6</td>\n",
              "      <td>567343</td>\n",
              "      <td>516969</td>\n",
              "      <td>641470.0</td>\n",
              "      <td>572365.0</td>\n",
              "      <td>570560.0</td>\n",
              "      <td>660162.0</td>\n",
              "      <td>664901.0</td>\n",
              "      <td>650391.0</td>\n",
              "      <td>641553.0</td>\n",
              "      <td>641477.0</td>\n",
              "      <td>54.93</td>\n",
              "      <td>NaN</td>\n",
              "      <td>NaN</td>\n",
              "      <td>NaN</td>\n",
              "      <td>NaN</td>\n",
              "      <td>NaN</td>\n",
              "      <td>NaN</td>\n",
              "      <td>NaN</td>\n",
              "      <td>66</td>\n",
              "      <td>2</td>\n",
              "      <td>Cutter</td>\n",
              "      <td>5</td>\n",
              "      <td>3</td>\n",
              "      <td>3</td>\n",
              "      <td>5</td>\n",
              "      <td>3</td>\n",
              "      <td>5</td>\n",
              "      <td>3</td>\n",
              "      <td>5</td>\n",
              "      <td>Standard</td>\n",
              "      <td>Standard</td>\n",
              "      <td>159.0</td>\n",
              "      <td>0.000</td>\n",
              "      <td>0.012</td>\n",
              "    </tr>\n",
              "    <tr>\n",
              "      <th>4</th>\n",
              "      <td>FF</td>\n",
              "      <td>2019-09-29</td>\n",
              "      <td>98.2</td>\n",
              "      <td>-1.47</td>\n",
              "      <td>6.24</td>\n",
              "      <td>Herrera, Kelvin</td>\n",
              "      <td>641513</td>\n",
              "      <td>516969</td>\n",
              "      <td>NaN</td>\n",
              "      <td>called_strike</td>\n",
              "      <td>NaN</td>\n",
              "      <td>NaN</td>\n",
              "      <td>NaN</td>\n",
              "      <td>NaN</td>\n",
              "      <td>5.0</td>\n",
              "      <td>Travis Demeritte strikes out swinging.</td>\n",
              "      <td>R</td>\n",
              "      <td>R</td>\n",
              "      <td>R</td>\n",
              "      <td>CWS</td>\n",
              "      <td>DET</td>\n",
              "      <td>S</td>\n",
              "      <td>NaN</td>\n",
              "      <td>NaN</td>\n",
              "      <td>0</td>\n",
              "      <td>0</td>\n",
              "      <td>2019</td>\n",
              "      <td>-0.34</td>\n",
              "      <td>1.17</td>\n",
              "      <td>-0.21</td>\n",
              "      <td>2.78</td>\n",
              "      <td>NaN</td>\n",
              "      <td>NaN</td>\n",
              "      <td>NaN</td>\n",
              "      <td>2</td>\n",
              "      <td>9</td>\n",
              "      <td>Top</td>\n",
              "      <td>NaN</td>\n",
              "      <td>NaN</td>\n",
              "      <td>NaN</td>\n",
              "      <td>...</td>\n",
              "      <td>NaN</td>\n",
              "      <td>NaN</td>\n",
              "      <td>NaN</td>\n",
              "      <td>98.5</td>\n",
              "      <td>2216.0</td>\n",
              "      <td>6.4</td>\n",
              "      <td>567343</td>\n",
              "      <td>516969</td>\n",
              "      <td>641470.0</td>\n",
              "      <td>572365.0</td>\n",
              "      <td>570560.0</td>\n",
              "      <td>660162.0</td>\n",
              "      <td>664901.0</td>\n",
              "      <td>650391.0</td>\n",
              "      <td>641553.0</td>\n",
              "      <td>641477.0</td>\n",
              "      <td>54.08</td>\n",
              "      <td>NaN</td>\n",
              "      <td>NaN</td>\n",
              "      <td>NaN</td>\n",
              "      <td>NaN</td>\n",
              "      <td>NaN</td>\n",
              "      <td>NaN</td>\n",
              "      <td>NaN</td>\n",
              "      <td>66</td>\n",
              "      <td>1</td>\n",
              "      <td>4-Seam Fastball</td>\n",
              "      <td>5</td>\n",
              "      <td>3</td>\n",
              "      <td>3</td>\n",
              "      <td>5</td>\n",
              "      <td>3</td>\n",
              "      <td>5</td>\n",
              "      <td>3</td>\n",
              "      <td>5</td>\n",
              "      <td>Standard</td>\n",
              "      <td>Standard</td>\n",
              "      <td>196.0</td>\n",
              "      <td>0.000</td>\n",
              "      <td>-0.019</td>\n",
              "    </tr>\n",
              "  </tbody>\n",
              "</table>\n",
              "<p>5 rows × 92 columns</p>\n",
              "</div>"
            ],
            "text/plain": [
              "  pitch_type   game_date  ...  delta_home_win_exp  delta_run_exp\n",
              "0         FC  2019-09-29  ...               0.011         -0.099\n",
              "1         FC  2019-09-29  ...               0.000         -0.033\n",
              "2         FF  2019-09-29  ...               0.000          0.024\n",
              "3         FC  2019-09-29  ...               0.000          0.012\n",
              "4         FF  2019-09-29  ...               0.000         -0.019\n",
              "\n",
              "[5 rows x 92 columns]"
            ]
          },
          "metadata": {
            "tags": []
          },
          "execution_count": 7
        }
      ]
    },
    {
      "cell_type": "markdown",
      "metadata": {
        "id": "xCFl5l0zgK2B"
      },
      "source": [
        "Index(['pitch_type', 'game_date', 'release_speed', 'release_pos_x',\n",
        "       'release_pos_z', 'player_name', 'batter', 'pitcher', 'events',\n",
        "       'description', 'spin_dir', 'spin_rate_deprecated',\n",
        "       'break_angle_deprecated', 'break_length_deprecated', 'zone', 'des',\n",
        "       'game_type', 'stand', 'p_throws', 'home_team', 'away_team', 'type',\n",
        "       'hit_location', 'bb_type', 'balls', 'strikes', 'game_year', 'pfx_x',\n",
        "       'pfx_z', 'plate_x', 'plate_z', 'on_3b', 'on_2b', 'on_1b',\n",
        "       'outs_when_up', 'inning', 'inning_topbot', 'hc_x', 'hc_y',\n",
        "       'tfs_deprecated', 'tfs_zulu_deprecated', 'fielder_2', 'umpire', 'sv_id',\n",
        "       'vx0', 'vy0', 'vz0', 'ax', 'ay', 'az', 'sz_top', 'sz_bot',\n",
        "       'hit_distance_sc', 'launch_speed', 'launch_angle', 'effective_speed',\n",
        "       'release_spin_rate', 'release_extension', 'game_pk', 'pitcher.1',\n",
        "       'fielder_2.1', 'fielder_3', 'fielder_4', 'fielder_5', 'fielder_6',\n",
        "       'fielder_7', 'fielder_8', 'fielder_9', 'release_pos_y',\n",
        "       'estimated_ba_using_speedangle', 'estimated_woba_using_speedangle',\n",
        "       'woba_value', 'woba_denom', 'babip_value', 'iso_value',\n",
        "       'launch_speed_angle', 'at_bat_number', 'pitch_number', 'pitch_name',\n",
        "       'home_score', 'away_score', 'bat_score', 'fld_score', 'post_away_score',\n",
        "       'post_home_score', 'post_bat_score', 'post_fld_score',\n",
        "       'if_fielding_alignment', 'of_fielding_alignment', 'spin_axis',\n",
        "       'delta_home_win_exp', 'delta_run_exp'],\n",
        "      dtype='object')"
      ]
    },
    {
      "cell_type": "code",
      "metadata": {
        "id": "RWzRO-JTgGmc"
      },
      "source": [
        "#Explore the outcome variable\n",
        "\n",
        "#find counts for each pitch name \n",
        "data['pitch_name'].value_counts()\n",
        "#remove pitch outs - these arent real pitches\n",
        "data = data[data.pitch_type != 'PO']\n",
        "\n",
        "#check for null values\n",
        "data['pitch_type'].isnull().sum() #10,975 pitches that do not have a pitch type\n",
        "#need to impute these pitch types in order to preserve the continuity of pitches on a game by game basis\n",
        "\n",
        "#Impute the pitches that have null values - strategy for this is to impute the pitch type based on that pitcher's individual pitch distribution from the rest of the dataset\n",
        "\n",
        "#create df of the rows where pitch type is null - will use this to compare to a dictionary created of all pitcher's pitch distributions \n",
        "pitch_type_null = data[data['pitch_type'].isna()]\n",
        "#find counts of pitches for each pitcher\n",
        "player_pitch_counts = data.groupby(['player_name', 'pitch_type']).size().reset_index(name='counts')\n",
        "#average of each pitch type for each player - in case need to impute other pitch metrics for a specific pitcher\n",
        "pitcher_average = data.groupby(['player_name', 'pitch_type']).mean()\n",
        "pitcher_average = pitcher_average[[ 'release_speed', 'release_spin_rate', 'spin_axis']]\n",
        "#find total pitches by each pitcher\n",
        "player_total_pitches = player_pitch_counts.groupby(['player_name']).sum()\n",
        "#merge the dataframe of counts for each pitch, and total pitches \n",
        "player_pitch_dist = pd.merge(player_pitch_counts, player_total_pitches, on='player_name')\n",
        "#divide counts of each pitch by total number of pitches\n",
        "player_pitch_dist['percentage'] = player_pitch_dist['counts_x'] / player_pitch_dist['counts_y']\n",
        "#subset of only the relevant columns\n",
        "player_pitch_dist = player_pitch_dist[['player_name', 'pitch_type', 'percentage']]\n",
        "#set the player name as index\n",
        "player_pitch_dist.set_index(\"player_name\", drop=True, inplace=True)\n",
        "#make the dataframe into a matrix of players and pitch types (column header), populated by distributions of each pitch for each pitcher\n",
        "new_player_pitch_dist = player_pitch_dist.pivot(columns = 'pitch_type')\n",
        "new_player_pitch_dist.columns = new_player_pitch_dist.columns.droplevel(0)\n",
        "#replace NaN with 0\n",
        "new_player_pitch_dist= new_player_pitch_dist.fillna(0)\n",
        "new_player_pitch_dist\n"
      ],
      "execution_count": null,
      "outputs": []
    },
    {
      "cell_type": "code",
      "metadata": {
        "id": "7GzGscvFF4hs"
      },
      "source": [
        "#turn this data frame into a dictionary where the index is the player_names, keys are the pitch types, and the values are the distributions of pitch type for that specific pitcher\n",
        "pitcher_pitch_distribution = new_player_pitch_dist.to_dict('index')\n",
        "#make lists of players that are in the pitch_distribution dictionary, and a list of players from the dataframe of null value pitches \n",
        "players_from_dictionary = list(pitcher_pitch_distribution.keys())\n",
        "players_from_df = list(pitch_type_null['player_name'].unique())\n",
        "\n",
        "#check to see if all players in the dataframe of null values for pitch type are in the dictionary - not actually deleting these players\n",
        "players_to_delete = []\n",
        "for player in players_from_df:\n",
        "  if player not in players_from_dictionary:\n",
        "    players_to_delete.append(player)\n",
        "players_to_delete\n",
        "#Scott Kingery and Kyle Farmer have thrown pitches, but have not thrown any pitches tracked by statcast and therefore have no pitches with which to create a distribution\n",
        "#to use to impute the null values for their pitch types \n",
        "#these players are position players and therefore are not very important in this analysis - can enter FF for their pitches \n",
        "\n",
        "#in full dataframe, insert 'FF' as the pitch type for all pitches by Kingery, Scott and Farmer, Kyle\n",
        "data['pitch_type'] = np.where((data.player_name == 'Kingery, Scott'),'FF',data.pitch_type)\n",
        "data['pitch_type'] = np.where((data.player_name == 'Farmer, Kyle'),'FF',data.pitch_type)\n",
        "data.loc[data['player_name'] == 'Kingery, Scott']\n"
      ],
      "execution_count": null,
      "outputs": []
    },
    {
      "cell_type": "code",
      "metadata": {
        "colab": {
          "base_uri": "https://localhost:8080/"
        },
        "id": "rWv8spMS1H2Q",
        "outputId": "017a3fac-e825-44df-e52a-a7ff0f8feba9"
      },
      "source": [
        "#make lists of players that are in the pitch_distribution dictionary, and a list of players from the dataframe of null value pitches \n",
        "players_from_dictionary = list(pitcher_pitch_distribution.keys())\n",
        "players_from_df = list(pitch_type_null['player_name'].unique())\n",
        "\n",
        "#check to see if all players in the dataframe of null values for pitch type are in the dictionary\n",
        "players_to_delete = []\n",
        "for player in players_from_df:\n",
        "  if player not in players_from_dictionary:\n",
        "    players_to_delete.append(player)\n",
        "players_to_delete\n",
        "#Scott Kingery and Kyle Farmer have thrown pitches, but have not thrown any pitches tracked by statcast and therefore have no pitches with which to create a distribution\n",
        "#to use to impute the null values for their pitch types \n",
        "#these players are position players and therefore are not very important in this analysis - can enter FF for their pitches \n"
      ],
      "execution_count": null,
      "outputs": [
        {
          "output_type": "execute_result",
          "data": {
            "text/plain": [
              "['Farmer, Kyle', 'Kingery, Scott']"
            ]
          },
          "metadata": {
            "tags": []
          },
          "execution_count": 33
        }
      ]
    },
    {
      "cell_type": "code",
      "metadata": {
        "id": "j1SjiGHVCfyh"
      },
      "source": [
        "#in full dataframe, insert 'FF' as the pitch type for all pitches by Kingery, Scott and Farmer, Kyle\n",
        "data['pitch_type'] = np.where((data.player_name == 'Kingery, Scott'),'FF',data.pitch_type)\n",
        "data['pitch_type'] = np.where((data.player_name == 'Farmer, Kyle'),'FF',data.pitch_type)\n",
        "data.loc[data['player_name'] == 'Kingery, Scott']\n",
        "\n",
        "#now there should be an entry in the pitch distribution dictionary for every player that has a null value in the pitch_type feature\n",
        "\n",
        "#change NaNs to 0\n",
        "data['pitch_type']=data.pitch_type.fillna('NaN')\n",
        "\n",
        "#function for imputing the pitch type for rows that have pitch type equal to NaN\n",
        "def impute_pitch(pitch, player):\n",
        "  #if pitch type is NaN\n",
        "  if pitch == 'NaN':\n",
        "    #lookup the entry for that player in the dictionary\n",
        "    x = pitcher_pitch_distribution.get(player)\n",
        "    #make a random guess for the pitch type (using that pitcher's distributions as the weights for the random guess)\n",
        "    y = random.choices(population = list(x.keys()), weights = list(x.values()), k = 1 )\n",
        "    return y[0]\n",
        "  else:\n",
        "    return pitch\n",
        "\n",
        "#apply the function to the full dataframe\n",
        "data['imputed_pitch'] = data.apply(lambda row: impute_pitch(row['pitch_type'], row['player_name']),axis=1)"
      ],
      "execution_count": null,
      "outputs": []
    },
    {
      "cell_type": "code",
      "metadata": {
        "id": "IQ0mlgQRGtao"
      },
      "source": [
        "#change NaNs to 0\n",
        "data['pitch_type']=data.pitch_type.fillna('NaN')\n",
        "\n",
        "\n",
        "#function for imputing the pitch type for rows that have pitch type equal to NaN\n",
        "def impute_pitch(pitch, player):\n",
        "  #if pitch type is NaN\n",
        "  if pitch == 'NaN':\n",
        "    #lookup the entry for that player in the dictionary\n",
        "    x = pitcher_pitch_distribution.get(player)\n",
        "    #make a random guess for the pitch type (using that pitcher's distributions as the weights for the random guess)\n",
        "    y = random.choices(population = list(x.keys()), weights = list(x.values()), k = 1 )\n",
        "    return y[0]\n",
        "  else:\n",
        "    return pitch\n",
        "\n",
        "#apply the function to the full dataframe\n",
        "data['imputed_pitch'] = data.apply(lambda row: impute_pitch(row['pitch_type'], row['player_name']),axis=1)\n",
        "\n",
        "#new value counts for all pitches\n",
        "data['imputed_pitch'].value_counts() #of course, fastballs still dominate\n",
        "#check to make sure that there are no null values  \n",
        "data['imputed_type'].isnull().sum()\n",
        "\n",
        "#show the different pitch types and their overall frequency\n",
        "data['imputed_pitch'].value_counts()\n",
        "data.imputed_pitch.value_counts().plot(kind = 'bar') #four seem fastballs look to make up nearly half of the total number of pitches\n"
      ],
      "execution_count": null,
      "outputs": []
    },
    {
      "cell_type": "code",
      "metadata": {
        "id": "GB4dVDN9UV8P"
      },
      "source": [
        "#Explore input Features / Feature Engineering\n",
        "\n",
        "#Release speed\n",
        "\n",
        "data['release_speed'].isnull().sum() #369 pitches do not have a pitch speed - very tiny fraction of overall data, so just use median speed as strategy to fill na's \n",
        "#assign the median pitch speed to these pitches\n",
        "speed_median = data['release_speed'].median()\n",
        "data['release_speed'] = data['release_speed'].fillna(value = speed_median)\n"
      ],
      "execution_count": null,
      "outputs": []
    },
    {
      "cell_type": "code",
      "metadata": {
        "id": "gVCDpCBTegzi"
      },
      "source": [
        "#Zone\n",
        "\n",
        "#check the zone category - this is the zone the pitch is delivered in \n",
        "data['zone'].value_counts()\n",
        "data['zone'].isnull().sum()\n",
        "#fill na values with 5 = zone in the middle of the strike zone\n",
        "data['zone'] = data['zone'].fillna(value = 5)\n"
      ],
      "execution_count": null,
      "outputs": []
    },
    {
      "cell_type": "code",
      "metadata": {
        "id": "swrBiosRiiPP"
      },
      "source": [
        "#Score of game - the score of the game before the pitch is thrown is hypothesized to influence the pitch the pitcher/catcher decide to throw\n",
        "\n",
        "#create score difference feature\n",
        "#function to determine score difference for the team that is pitching\n",
        "def score_diff(inning, home_score, away_score):\n",
        "  score = 0\n",
        "  if inning == 'Top':\n",
        "    score = home_score - away_score\n",
        "  else:\n",
        "    score = away_score - home_score\n",
        "  return score\n",
        "\n",
        "data['score_difference'] = data.apply(lambda row: score_diff(row['inning_topbot'], row['home_score'], row['away_score']),axis=1)\n"
      ],
      "execution_count": null,
      "outputs": []
    },
    {
      "cell_type": "code",
      "metadata": {
        "id": "R_K3BkwWoiZd"
      },
      "source": [
        "#Balls and Strikes\n",
        "\n",
        "#make a feature for the count at the start of the pitch\n",
        "#categorical feature - neurtral (neutral count) / batter (count favors the batter) / pitcher (count favors the pitcher)\n",
        "\n",
        "#9 rows have 5 in the 'balls'column - this is a mistake, should be 3\n",
        "data[\"balls\"].replace({4: 3}, inplace=True)\n",
        "#first concatenate the balls and strikes column to make a count column\n",
        "data['count'] = data['balls'].astype(str) + data['strikes'].astype(str)\n",
        "data['count'] = data['count'].astype(str)\n",
        "#define what counts are neutral / advantageous to pitcher or catcher\n",
        "def define_advantage(count):\n",
        "  neutral = ['00', '11', '32']\n",
        "  p_adv = ['01', '12', '22', '02']\n",
        "  b_adv = ['10', '21', '20', '31', '30']\n",
        "  if count in neutral:\n",
        "    return 'neutral'\n",
        "  if count in p_adv:\n",
        "    return 'pitcher'\n",
        "  if count in b_adv:\n",
        "    return 'batter'\n",
        "data['advantage'] = data.apply(lambda row: define_advantage(row['count']), axis = 1)"
      ],
      "execution_count": null,
      "outputs": []
    },
    {
      "cell_type": "code",
      "metadata": {
        "id": "po2at_i0yUsR"
      },
      "source": [
        "#feature for if there is any one on base at the end of the pitch"
      ],
      "execution_count": null,
      "outputs": []
    },
    {
      "cell_type": "code",
      "metadata": {
        "id": "RA0xsLiAxPcs"
      },
      "source": [
        "#Feature for the batter \n",
        "#the ability of the batter impacts how the pitcher attacks the hitter - for example, I suspect that, on average, pitchers will throw fewer fastballs to good hitters\n",
        "#download batter stats from fangraphs from a certain year or range of years\n",
        "\n",
        "#helper function for getting rows from the table - in fangraphs, the rows are alternating classes rgRow and rgAltRow\n",
        "def GetRows(table):\n",
        "    rows = table.find_all('tr', {'class':['rgRow','rgAltRow']})\n",
        "    return rows\n",
        "\n",
        "#function for getting the standard team batting data from the start_season until the end_season, and saves it in a dataframe where the last column is the year the data came from\n",
        "def player_batting_fangraphs(start_season, end_season=None):\n",
        "    \"\"\"\n",
        "    Get season-level Batting Statistics for Specific Team (from Fangraphs)\n",
        "    ARGUMENTS:\n",
        "    start_season : int : first season you want data for (or the only season if you do not specify an end_season)\n",
        "    end_season : int : final season you want data for\n",
        "    \"\"\"\n",
        "    if start_season is None:\n",
        "        raise ValueError(\"You need to provide at least one season to collect data for.\")\n",
        "    if end_season is None:\n",
        "        end_season = start_season\n",
        "    #define the headings of the columns \n",
        "    headings = [\"#\",'Name',\"Team\",\"G\",\"PA\",\"HR\",\"R\",\"RBI\",\"SB\",\"BB%\",\"K%\",\"ISO\",\"BABIP\",\"AVG\",\"OBP\",\"SLG\",\"wOBA\",\"xwOBA\",\"wRC+\",\"BsR\",\"Off\",\"Def\",'WAR']\n",
        "    #create an empty list\n",
        "    df = pd.DataFrame()\n",
        "    for season in range(start_season, end_season+1):\n",
        "      for page in range(1,13):\n",
        "        #url where the batting table can be found - url format stays the same, only the year changes\n",
        "        url = \"\"\" https://www.fangraphs.com/leaders.aspx?pos=all&stats=bat&lg=all&qual=50&type=8&season={year}&month=0&season1={year}&ind=0&team=0&rost=0&age=0&filter=&players=0&startdate={year}-01-01&enddate={year}-12-31&sort=18,d&page={page}_50\"\"\".format(year=season, page = page)\n",
        "        #send request\n",
        "        page = urllib.request.urlopen(url)\n",
        "        #create a beautifulsoup object and pass in the page and lxml parser\n",
        "        soup = BeautifulSoup(page,'lxml')\n",
        "        #find the table based on its class attribute, and store table\n",
        "        table = soup.find('table',class_='rgMasterTable')\n",
        "        #get the text from the rows - text is defined by td, rows defined by tr\n",
        "        rows = [[data.get_text() for data in r.select('td')] for r in GetRows(table)]\n",
        "        #create the data frame\n",
        "        data = pd.DataFrame(data=rows,columns=headings)\n",
        "        #add the year on to the end of the dataframe so the team/year combination can be uniquely identified\n",
        "        data[\"Year\"] = str(season)\n",
        "        #create the year column on the end of the dataframe so we can identify between rows of the same team\n",
        "        df = df.append(data)\n",
        "    return df"
      ],
      "execution_count": null,
      "outputs": []
    },
    {
      "cell_type": "code",
      "metadata": {
        "id": "PYHhmcOjAp2Q"
      },
      "source": [
        "#download the batting stats from fangraphs\n",
        "hitter_data = player_batting_fangraphs(2019)"
      ],
      "execution_count": null,
      "outputs": []
    },
    {
      "cell_type": "code",
      "metadata": {
        "id": "iNbdtLdQIWWb"
      },
      "source": [
        "#save to csv in colab notebook folder\n",
        "#hitter_data.to_csv(r'/content/drive/MyDrive/Colab Notebooks/hitter_data.csv', index = False, header=True)\n",
        "\n",
        "#load hitter data from colab notebook folder\n",
        "hitter_data = pd.read_csv('/content/drive/MyDrive/Colab Notebooks/hitter_data.csv')"
      ],
      "execution_count": null,
      "outputs": []
    },
    {
      "cell_type": "code",
      "metadata": {
        "id": "rs9Ku5RapNHK",
        "colab": {
          "base_uri": "https://localhost:8080/"
        },
        "outputId": "c8543202-1c99-43ac-a749-95c1e88eec74"
      },
      "source": [
        "#keep just the Name and wRC+ columns - wRC+ chosen as a representation of how good the batter is at hitting \n",
        "hitters = hitter_data[['Name', 'wRC+']]\n",
        "hitters['wRC+'] = hitters['wRC+'].astype(int)\n",
        "hitters.describe()\n",
        "#define a wRC+ number to assign to hitters who are not found in the fangraphs stats\n",
        "hitter_impute = 64.00"
      ],
      "execution_count": null,
      "outputs": [
        {
          "output_type": "stream",
          "text": [
            "/usr/local/lib/python3.7/dist-packages/ipykernel_launcher.py:3: SettingWithCopyWarning: \n",
            "A value is trying to be set on a copy of a slice from a DataFrame.\n",
            "Try using .loc[row_indexer,col_indexer] = value instead\n",
            "\n",
            "See the caveats in the documentation: https://pandas.pydata.org/pandas-docs/stable/user_guide/indexing.html#returning-a-view-versus-a-copy\n",
            "  This is separate from the ipykernel package so we can avoid doing imports until\n"
          ],
          "name": "stderr"
        }
      ]
    },
    {
      "cell_type": "code",
      "metadata": {
        "id": "jTQOkhcSGgLE",
        "colab": {
          "base_uri": "https://localhost:8080/"
        },
        "outputId": "133144c2-7525-4e66-d8ce-2d5ceee89dfe"
      },
      "source": [
        "#split Name into first name and last name,\n",
        "hitters[['First','Last', 'Middle']] = hitters.Name.str.split(\" \",expand=True,)\n",
        "\n",
        "#need to get id from the statcast database for each player so this can be merged with full dataframe\n",
        "def get_hitter_id(first_name, last_name):\n",
        "  #use function from pybaseball - playerid_lookup - inputs are last name, first name of a player in the database, and it give out different IDs\n",
        "  batter = playerid_lookup(last_name, first_name)\n",
        "  #error to handle mismatches - sometimes the name is not the same in fangraphs and statcast\n",
        "  #return 0 if there is no match - these are the names that will have to be investigated to find a match \n",
        "  try:\n",
        "    id = batter.key_mlbam[0]\n",
        "  except KeyError:\n",
        "    id = 0\n",
        "  return id\n",
        "\n",
        "\n",
        "hitters['batter'] = hitters.apply(lambda row: get_hitter_id(row['First'], row['Last']), axis = 1)\n",
        "hitters.batter.value_counts()#24 hitters were not matched to an id\n"
      ],
      "execution_count": null,
      "outputs": [
        {
          "output_type": "stream",
          "text": [
            "/usr/local/lib/python3.7/dist-packages/pandas/core/frame.py:3069: SettingWithCopyWarning: \n",
            "A value is trying to be set on a copy of a slice from a DataFrame.\n",
            "Try using .loc[row_indexer,col_indexer] = value instead\n",
            "\n",
            "See the caveats in the documentation: https://pandas.pydata.org/pandas-docs/stable/user_guide/indexing.html#returning-a-view-versus-a-copy\n",
            "  self[k1] = value[k2]\n",
            "/usr/local/lib/python3.7/dist-packages/ipykernel_launcher.py:17: SettingWithCopyWarning: \n",
            "A value is trying to be set on a copy of a slice from a DataFrame.\n",
            "Try using .loc[row_indexer,col_indexer] = value instead\n",
            "\n",
            "See the caveats in the documentation: https://pandas.pydata.org/pandas-docs/stable/user_guide/indexing.html#returning-a-view-versus-a-copy\n"
          ],
          "name": "stderr"
        },
        {
          "output_type": "execute_result",
          "data": {
            "text/plain": [
              "0         24\n",
              "668670     1\n",
              "571745     1\n",
              "664926     1\n",
              "571740     1\n",
              "          ..\n",
              "669374     1\n",
              "660162     1\n",
              "527049     1\n",
              "605508     1\n",
              "452095     1\n",
              "Name: batter, Length: 544, dtype: int64"
            ]
          },
          "metadata": {
            "tags": []
          },
          "execution_count": 22
        }
      ]
    },
    {
      "cell_type": "code",
      "metadata": {
        "id": "JChoda4HDBhX"
      },
      "source": [
        "# names of hitters that dont match\n",
        "hitters.loc[hitters['batter'] == 0]\n",
        "\n"
      ],
      "execution_count": null,
      "outputs": []
    },
    {
      "cell_type": "code",
      "metadata": {
        "id": "7Mhr-_18ErZW"
      },
      "source": [
        "#look up these hitters manually if they are expected to have many plate appearances \n",
        "alvarez = playerid_lookup('Álvarez', 'Yordan')\n",
        "alvarez_id = alvarez.key_mlbam[0]\n",
        "hitters['batter'] = np.where((hitters.Name == 'Yordan Alvarez'),alvarez_id,hitters.batter)\n",
        "\n",
        "\n",
        "martinez = playerid_lookup('martinez', 'J. D.', fuzzy = True)\n",
        "martinez_id = martinez.key_mlbam[0]\n",
        "hitters['batter'] = np.where((hitters.Name == 'J.D. Martinez'),martinez_id,hitters.batter)\n",
        "\n",
        "\n",
        "davis = playerid_lookup('Davis', 'J. D.', fuzzy = True)\n",
        "davis_id = davis.key_mlbam[0]\n",
        "hitters['batter'] = np.where((hitters.Name == 'J.D. Davis'),davis_id,hitters.batter)\n",
        "\n",
        "\n",
        "lastella = playerid_lookup('la stella', 'tommy', fuzzy = True)\n",
        "lastella_id = lastella.key_mlbam[0]\n",
        "hitters['batter'] = np.where((hitters.Name == 'Tommy La Stella'),lastella_id,hitters.batter)\n",
        "\n",
        "\n",
        "diaz_A = playerid_lookup('Díaz', 'Aledmys', fuzzy = True)\n",
        "diaz_A_id = diaz_A.key_mlbam[0]\n",
        "hitters['batter'] = np.where((hitters.Name == 'Aledmys Diaz'),diaz_A_id,hitters.batter)\n",
        "\n",
        "\n",
        "diaz_Y = playerid_lookup('Díaz', 'Yandy', fuzzy = True)\n",
        "diaz_Y_id = diaz_Y.key_mlbam[0]\n",
        "hitters['batter'] = np.where((hitters.Name == 'Yandy Diaz'),diaz_Y_id,hitters.batter)\n",
        "\n",
        "\n",
        "abreu = playerid_lookup('Abreu', 'José', fuzzy = True)\n",
        "abreu_id = abreu.key_mlbam[0]\n",
        "hitters['batter'] = np.where((hitters.Name == 'Jose Abreu'),abreu_id,hitters.batter)\n",
        "\n",
        "\n",
        "vogel = playerid_lookup('Vogelbach', 'Dan', fuzzy = True)\n",
        "vogel_id = vogel.key_mlbam[0]\n",
        "hitters['batter'] = np.where((hitters.Name == 'Daniel Vogelbach'),vogel_id,hitters.batter)\n",
        "\n",
        "\n",
        "realmuto = playerid_lookup('Realmuto', 'J. T.', fuzzy = True)\n",
        "realmuto_id = realmuto.key_mlbam[0]\n",
        "hitters['batter'] = np.where((hitters.Name == 'J.T. Realmuto'),realmuto_id,hitters.batter)\n",
        "\n",
        "\n",
        "pollock = playerid_lookup('Pollock', 'AJ', fuzzy = True)\n",
        "pollock_id = pollock.key_mlbam[0]\n",
        "hitters['batter'] = np.where((hitters.Name == 'A.J. Pollock'),pollock_id,hitters.batter)\n",
        "\n",
        "cron = playerid_lookup('Cron', 'C. J.', fuzzy = True)\n",
        "cron_id = cron.key_mlbam[0]\n",
        "hitters['batter'] = np.where((hitters.Name == 'C.J. Cron'),cron_id,hitters.batter)\n",
        "\n",
        "#drop the players with no id match - these players will later get the hitter_impute value for their wRC+ feature\n",
        "hitters = hitters[hitters.batter != 0]\n",
        "hitters.batter.value_counts()\n"
      ],
      "execution_count": null,
      "outputs": []
    },
    {
      "cell_type": "code",
      "metadata": {
        "id": "v09SRQsCE4Ec",
        "colab": {
          "base_uri": "https://localhost:8080/",
          "height": 198
        },
        "outputId": "5b0c86e1-5728-46a1-879e-c9eae2220320"
      },
      "source": [
        "#final dataframe for hitters - just need their id (which is called 'batter'here to match with id column in the full dataframe) and wRC+ \n",
        "hitters_final = hitters[['batter', 'wRC+']]\n",
        "hitters_final.head()\n",
        "\n",
        "#merge hitters_final with full data on batter - then find any NA's in wRC+ column and replace with hitter_impute number "
      ],
      "execution_count": null,
      "outputs": [
        {
          "output_type": "execute_result",
          "data": {
            "text/html": [
              "<div>\n",
              "<style scoped>\n",
              "    .dataframe tbody tr th:only-of-type {\n",
              "        vertical-align: middle;\n",
              "    }\n",
              "\n",
              "    .dataframe tbody tr th {\n",
              "        vertical-align: top;\n",
              "    }\n",
              "\n",
              "    .dataframe thead th {\n",
              "        text-align: right;\n",
              "    }\n",
              "</style>\n",
              "<table border=\"1\" class=\"dataframe\">\n",
              "  <thead>\n",
              "    <tr style=\"text-align: right;\">\n",
              "      <th></th>\n",
              "      <th>batter</th>\n",
              "      <th>wRC+</th>\n",
              "    </tr>\n",
              "  </thead>\n",
              "  <tbody>\n",
              "    <tr>\n",
              "      <th>0</th>\n",
              "      <td>670541</td>\n",
              "      <td>178</td>\n",
              "    </tr>\n",
              "    <tr>\n",
              "      <th>1</th>\n",
              "      <td>545361</td>\n",
              "      <td>178</td>\n",
              "    </tr>\n",
              "    <tr>\n",
              "      <th>2</th>\n",
              "      <td>592885</td>\n",
              "      <td>175</td>\n",
              "    </tr>\n",
              "    <tr>\n",
              "      <th>3</th>\n",
              "      <td>608324</td>\n",
              "      <td>169</td>\n",
              "    </tr>\n",
              "    <tr>\n",
              "      <th>4</th>\n",
              "      <td>112906</td>\n",
              "      <td>163</td>\n",
              "    </tr>\n",
              "  </tbody>\n",
              "</table>\n",
              "</div>"
            ],
            "text/plain": [
              "   batter  wRC+\n",
              "0  670541   178\n",
              "1  545361   178\n",
              "2  592885   175\n",
              "3  608324   169\n",
              "4  112906   163"
            ]
          },
          "metadata": {
            "tags": []
          },
          "execution_count": 53
        }
      ]
    },
    {
      "cell_type": "code",
      "metadata": {
        "id": "rVOkOMNWTR3n"
      },
      "source": [
        "pitch_data_full['pitch_type'].value_counts()\n",
        "\n",
        "def pitch_category(pitch):\n",
        "  fastballs = ['FF', 'FT', 'FC', 'FA', 'SI']\n",
        "  breakingballs = ['CU', 'SL', 'SC', 'KC']\n",
        "  offspeed = ['CH', 'PO', 'FO', 'EP', 'KN', 'FS']\n",
        "  if pitch in fastballs:\n",
        "    return 'fastball'\n",
        "  if pitch in breakingballs:\n",
        "    return 'breakingball'\n",
        "  if pitch in offspeed:\n",
        "    return 'offspeed'\n",
        "    \n",
        "pitch_data_full['pitch_category'] = pitch_data_full.apply(lambda row: pitch_category(row['pitch_type']), axis = 1)\n",
        "pitch_data_full = pitch_data_full.drop(['pitch_type'], axis = 1)"
      ],
      "execution_count": null,
      "outputs": []
    },
    {
      "cell_type": "code",
      "metadata": {
        "colab": {
          "base_uri": "https://localhost:8080/",
          "height": 296
        },
        "id": "H_vfpIT4aFWg",
        "outputId": "801946e9-7ed0-4d10-f683-ec9a462858e8"
      },
      "source": [
        "sns.countplot(x = 'pitch_category', hue = 'release_speed', data = pitch_data_full, palette = 'magma')\n",
        "plt.legend([],[], frameon=False)\n",
        "plt.title('Pitch categories and their speed')\n",
        "plt.show()"
      ],
      "execution_count": null,
      "outputs": [
        {
          "output_type": "display_data",
          "data": {
            "image/png": "[encoded data removed]",
            "text/plain": [
              "<Figure size 432x288 with 1 Axes>"
            ]
          },
          "metadata": {
            "tags": [],
            "needs_background": "light"
          }
        }
      ]
    },
    {
      "cell_type": "code",
      "metadata": {
        "colab": {
          "base_uri": "https://localhost:8080/"
        },
        "id": "lE1ZAbUBk-Bg",
        "outputId": "4573045c-da02-471f-ca93-254679a2e73c"
      },
      "source": [
        "#imbalanced data - more many more fastballs than offpeed pitches or breakingballs\n",
        "pitch_data_full['pitch_category'].value_counts() \n"
      ],
      "execution_count": null,
      "outputs": [
        {
          "output_type": "execute_result",
          "data": {
            "text/plain": [
              "fastball        866192\n",
              "breakingball    409460\n",
              "offspeed        177053\n",
              "Name: pitch_category, dtype: int64"
            ]
          },
          "metadata": {
            "tags": []
          },
          "execution_count": 33
        }
      ]
    },
    {
      "cell_type": "code",
      "metadata": {
        "colab": {
          "base_uri": "https://localhost:8080/",
          "height": 168
        },
        "id": "mJF-i1KSl2Dq",
        "outputId": "91ac1636-0bb6-42c9-df0e-4972c7316f26"
      },
      "source": [
        "#average release_speed, spin rate and spin axis for each pitch category\n",
        "pitch_data_full.groupby(['pitch_category']).mean()\n"
      ],
      "execution_count": null,
      "outputs": [
        {
          "output_type": "execute_result",
          "data": {
            "text/html": [
              "<div>\n",
              "<style scoped>\n",
              "    .dataframe tbody tr th:only-of-type {\n",
              "        vertical-align: middle;\n",
              "    }\n",
              "\n",
              "    .dataframe tbody tr th {\n",
              "        vertical-align: top;\n",
              "    }\n",
              "\n",
              "    .dataframe thead th {\n",
              "        text-align: right;\n",
              "    }\n",
              "</style>\n",
              "<table border=\"1\" class=\"dataframe\">\n",
              "  <thead>\n",
              "    <tr style=\"text-align: right;\">\n",
              "      <th></th>\n",
              "      <th>release_speed</th>\n",
              "      <th>release_spin_rate</th>\n",
              "      <th>spin_axis</th>\n",
              "    </tr>\n",
              "    <tr>\n",
              "      <th>pitch_category</th>\n",
              "      <th></th>\n",
              "      <th></th>\n",
              "      <th></th>\n",
              "    </tr>\n",
              "  </thead>\n",
              "  <tbody>\n",
              "    <tr>\n",
              "      <th>breakingball</th>\n",
              "      <td>82.345714</td>\n",
              "      <td>2450.747016</td>\n",
              "      <td>138.280621</td>\n",
              "    </tr>\n",
              "    <tr>\n",
              "      <th>fastball</th>\n",
              "      <td>92.505716</td>\n",
              "      <td>2245.754016</td>\n",
              "      <td>192.560240</td>\n",
              "    </tr>\n",
              "    <tr>\n",
              "      <th>offspeed</th>\n",
              "      <td>84.425166</td>\n",
              "      <td>1748.290473</td>\n",
              "      <td>204.699838</td>\n",
              "    </tr>\n",
              "  </tbody>\n",
              "</table>\n",
              "</div>"
            ],
            "text/plain": [
              "                release_speed  release_spin_rate   spin_axis\n",
              "pitch_category                                              \n",
              "breakingball        82.345714        2450.747016  138.280621\n",
              "fastball            92.505716        2245.754016  192.560240\n",
              "offspeed            84.425166        1748.290473  204.699838"
            ]
          },
          "metadata": {
            "tags": []
          },
          "execution_count": 34
        }
      ]
    },
    {
      "cell_type": "code",
      "metadata": {
        "id": "6BlhvcYmswFC"
      },
      "source": [
        "# define the multinomial logistic regression model\n",
        "model = LogisticRegression(multi_class='multinomial', solver='lbfgs')\n",
        "# define the model evaluation procedure\n",
        "cv = RepeatedStratifiedKFold(n_splits=10, n_repeats=3, random_state=1)\n",
        "# evaluate the model and collect the scores\n",
        "n_scores = cross_val_score(model, x_train, y_train, scoring='accuracy', cv=cv)\n",
        "# report the model performance\n",
        "print('Mean Accuracy: %.3f (%.3f)' % (mean(n_scores), std(n_scores)))"
      ],
      "execution_count": null,
      "outputs": []
    },
    {
      "cell_type": "code",
      "metadata": {
        "id": "uwchDVewoWZv"
      },
      "source": [
        "train , test = train_test_split(pitch_data_full, test_size = 0.3)\n",
        "\n",
        "x_train = train.drop(['pitch_category'], axis=1)\n",
        "y_train = train[['pitch_category']]\n",
        "\n",
        "x_test = test.drop(['pitch_category'], axis = 1)\n",
        "y_test = test[['pitch_category']]"
      ],
      "execution_count": null,
      "outputs": []
    },
    {
      "cell_type": "code",
      "metadata": {
        "colab": {
          "base_uri": "https://localhost:8080/"
        },
        "id": "ZqTQfgf7tWKN",
        "outputId": "a97410f7-861f-4f17-c73c-c471f0a5abc2"
      },
      "source": [
        "null_columns=pitch_type_null.columns[pitch_type_null.isnull().any()]\n",
        "pitch_type_null[null_columns].isnull().sum()"
      ],
      "execution_count": null,
      "outputs": [
        {
          "output_type": "execute_result",
          "data": {
            "text/plain": [
              "pitch_type               10975\n",
              "release_speed            10758\n",
              "release_pos_x            10808\n",
              "release_pos_z            10808\n",
              "events                    8227\n",
              "                         ...  \n",
              "pitch_name               10975\n",
              "if_fielding_alignment     7303\n",
              "of_fielding_alignment     7303\n",
              "spin_axis                10808\n",
              "delta_run_exp                3\n",
              "Length: 61, dtype: int64"
            ]
          },
          "metadata": {
            "tags": []
          },
          "execution_count": 67
        }
      ]
    },
    {
      "cell_type": "code",
      "metadata": {
        "id": "WMVsV-9Mmg3Z"
      },
      "source": [
        "\n",
        "corrMatrix = pitch_data_full.iloc[:, 0:3].corr()\n",
        "sns.heatmap(corrMatrix, annot=False)\n",
        "plt.show()"
      ],
      "execution_count": null,
      "outputs": []
    }
  ]
}